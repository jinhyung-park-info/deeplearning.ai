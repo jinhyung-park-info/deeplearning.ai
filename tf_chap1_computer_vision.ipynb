{
  "nbformat": 4,
  "nbformat_minor": 0,
  "metadata": {
    "colab": {
      "name": "tf_chap1_computer_vision.ipynb",
      "provenance": [],
      "authorship_tag": "ABX9TyNZP/w0rib4soVDAqpPSiDH",
      "include_colab_link": true
    },
    "kernelspec": {
      "name": "python3",
      "display_name": "Python 3"
    }
  },
  "cells": [
    {
      "cell_type": "markdown",
      "metadata": {
        "id": "view-in-github",
        "colab_type": "text"
      },
      "source": [
        "<a href=\"https://colab.research.google.com/github/jinhyung426/tensorflow/blob/main/tf_chap1_computer_vision.ipynb\" target=\"_parent\"><img src=\"https://colab.research.google.com/assets/colab-badge.svg\" alt=\"Open In Colab\"/></a>"
      ]
    },
    {
      "cell_type": "markdown",
      "metadata": {
        "id": "lPTwbpWLAF7A"
      },
      "source": [
        "# Tensorflow\r\n",
        "\r\n",
        "## Chapter 1. Computer Vision\r\n"
      ]
    },
    {
      "cell_type": "code",
      "metadata": {
        "id": "7F7OzArHAaas"
      },
      "source": [
        "sample = [1, 2, 3]"
      ],
      "execution_count": 2,
      "outputs": []
    },
    {
      "cell_type": "code",
      "metadata": {
        "colab": {
          "base_uri": "https://localhost:8080/"
        },
        "id": "04x3O4JLAfB5",
        "outputId": "ef93cbd5-a178-41c2-bf49-39bbcf5721ee"
      },
      "source": [
        "sample"
      ],
      "execution_count": 3,
      "outputs": [
        {
          "output_type": "execute_result",
          "data": {
            "text/plain": [
              "[1, 2, 3]"
            ]
          },
          "metadata": {
            "tags": []
          },
          "execution_count": 3
        }
      ]
    },
    {
      "cell_type": "code",
      "metadata": {
        "id": "cSzbsguAAfm5"
      },
      "source": [
        "new_smaple = [1]"
      ],
      "execution_count": 4,
      "outputs": []
    },
    {
      "cell_type": "code",
      "metadata": {
        "colab": {
          "base_uri": "https://localhost:8080/"
        },
        "id": "Uh42G3a6BAME",
        "outputId": "aa99f7e1-9de2-4dfc-c88f-04d0941ea362"
      },
      "source": [
        "new_smaple"
      ],
      "execution_count": 5,
      "outputs": [
        {
          "output_type": "execute_result",
          "data": {
            "text/plain": [
              "[1]"
            ]
          },
          "metadata": {
            "tags": []
          },
          "execution_count": 5
        }
      ]
    },
    {
      "cell_type": "code",
      "metadata": {
        "id": "36mECwpXBBAi"
      },
      "source": [
        ""
      ],
      "execution_count": null,
      "outputs": []
    }
  ]
}