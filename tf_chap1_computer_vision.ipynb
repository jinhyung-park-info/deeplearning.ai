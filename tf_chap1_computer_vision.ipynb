{
  "nbformat": 4,
  "nbformat_minor": 0,
  "metadata": {
    "colab": {
      "name": "tf_chap1_computer_vision.ipynb",
      "provenance": [],
      "collapsed_sections": [],
      "authorship_tag": "ABX9TyOs1QD/xzxeaAJXZ50R8saV",
      "include_colab_link": true
    },
    "kernelspec": {
      "name": "python3",
      "display_name": "Python 3"
    }
  },
  "cells": [
    {
      "cell_type": "markdown",
      "metadata": {
        "id": "view-in-github",
        "colab_type": "text"
      },
      "source": [
        "<a href=\"https://colab.research.google.com/github/jinhyung426/tensorflow/blob/main/tf_chap1_computer_vision.ipynb\" target=\"_parent\"><img src=\"https://colab.research.google.com/assets/colab-badge.svg\" alt=\"Open In Colab\"/></a>"
      ]
    },
    {
      "cell_type": "markdown",
      "metadata": {
        "id": "lPTwbpWLAF7A"
      },
      "source": [
        "# Tensorflow\r\n",
        "\r\n",
        "## Part 1. Introduction to TensorFlow for Artificial Intelligence, Machine Learning, and Deep Learning\r\n"
      ]
    },
    {
      "cell_type": "code",
      "metadata": {
        "id": "7F7OzArHAaas"
      },
      "source": [
        "import tensorflow as tf\r\n",
        "from tensorflow import keras\r\n",
        "import numpy as np"
      ],
      "execution_count": 6,
      "outputs": []
    },
    {
      "cell_type": "markdown",
      "metadata": {
        "id": "9yIaQ7-GDTI8"
      },
      "source": [
        "# Callbacks\r\n",
        "\r\n",
        "1. Inline으로 해도 가능\r\n",
        "2. on_epoch_end function의 경우 epoch가 끝나고 나서 실행\r\n",
        "3. logs.get('loss'), logs.get('mae') 등 loss 및 metrics로 설정한 것들 확인할 수 있음\r\n",
        "4. For lower versions of tensorflow, use 'acc' instead of 'accuracy'"
      ]
    },
    {
      "cell_type": "code",
      "metadata": {
        "id": "04x3O4JLAfB5"
      },
      "source": [
        "class myCallback(tf.keras.callbacks.Callback):\r\n",
        "  def on_epoch_end(self, epoch, logs={}):\r\n",
        "    if epoch.get('accuracy') > 0.82:\r\n",
        "      print(\"Reahced 82% accuracy so stop training!\\n\")\r\n",
        "      self.model.stop_training = True"
      ],
      "execution_count": 8,
      "outputs": []
    },
    {
      "cell_type": "code",
      "metadata": {
        "id": "36mECwpXBBAi"
      },
      "source": [
        "callback = myCallback()"
      ],
      "execution_count": 9,
      "outputs": []
    },
    {
      "cell_type": "code",
      "metadata": {
        "colab": {
          "base_uri": "https://localhost:8080/"
        },
        "id": "XIeHfZs5Duu4",
        "outputId": "a532c211-31e8-4165-ef36-bd5d78a000fc"
      },
      "source": [
        "mnist = tf.keras.datasets.fashion_mnist  # fashion_mnist는 옷, mnist는 손글씨 숫자 data\r\n",
        "\r\n",
        "(training_images, training_labels), (testing_images, testing_labels) = mnist.load_data()\r\n",
        "training_images = training_images.reshape(60000, 28, 28, 1)\r\n",
        "training_images = training_images / 255.0\r\n",
        "testing_images = testing_images.reshape(10000, 28, 28, 1)\r\n",
        "testing_images = testing_images / 255.0"
      ],
      "execution_count": 11,
      "outputs": [
        {
          "output_type": "stream",
          "text": [
            "Downloading data from https://storage.googleapis.com/tensorflow/tf-keras-datasets/train-labels-idx1-ubyte.gz\n",
            "32768/29515 [=================================] - 0s 0us/step\n",
            "Downloading data from https://storage.googleapis.com/tensorflow/tf-keras-datasets/train-images-idx3-ubyte.gz\n",
            "26427392/26421880 [==============================] - 0s 0us/step\n",
            "Downloading data from https://storage.googleapis.com/tensorflow/tf-keras-datasets/t10k-labels-idx1-ubyte.gz\n",
            "8192/5148 [===============================================] - 0s 0us/step\n",
            "Downloading data from https://storage.googleapis.com/tensorflow/tf-keras-datasets/t10k-images-idx3-ubyte.gz\n",
            "4423680/4422102 [==============================] - 0s 0us/step\n"
          ],
          "name": "stdout"
        }
      ]
    },
    {
      "cell_type": "code",
      "metadata": {
        "id": "IvNCLiNND0nR"
      },
      "source": [
        ""
      ],
      "execution_count": 10,
      "outputs": []
    }
  ]
}