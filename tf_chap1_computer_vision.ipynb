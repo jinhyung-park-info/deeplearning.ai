{
  "nbformat": 4,
  "nbformat_minor": 0,
  "metadata": {
    "colab": {
      "name": "tf_chap1_computer_vision.ipynb",
      "provenance": [],
      "collapsed_sections": [],
      "authorship_tag": "ABX9TyPFK4UX4MVnpGsWtsapnZDo",
      "include_colab_link": true
    },
    "kernelspec": {
      "name": "python3",
      "display_name": "Python 3"
    },
    "accelerator": "GPU"
  },
  "cells": [
    {
      "cell_type": "markdown",
      "metadata": {
        "id": "view-in-github",
        "colab_type": "text"
      },
      "source": [
        "<a href=\"https://colab.research.google.com/github/jinhyung426/tensorflow/blob/main/tf_chap1_computer_vision.ipynb\" target=\"_parent\"><img src=\"https://colab.research.google.com/assets/colab-badge.svg\" alt=\"Open In Colab\"/></a>"
      ]
    },
    {
      "cell_type": "markdown",
      "metadata": {
        "id": "lPTwbpWLAF7A"
      },
      "source": [
        "# Tensorflow\r\n",
        "\r\n",
        "## Part 1. Introduction to TensorFlow for Artificial Intelligence, Machine Learning, and Deep Learning\r\n"
      ]
    },
    {
      "cell_type": "code",
      "metadata": {
        "id": "7F7OzArHAaas"
      },
      "source": [
        "import tensorflow as tf\r\n",
        "import numpy as np\r\n",
        "import matplotlib.pyplot as plt"
      ],
      "execution_count": 1,
      "outputs": []
    },
    {
      "cell_type": "markdown",
      "metadata": {
        "id": "9yIaQ7-GDTI8"
      },
      "source": [
        "# Callbacks\r\n",
        "\r\n",
        "1. Inline으로 해도 가능\r\n",
        "2. on_epoch_end function의 경우 매 epoch가 끝나고 나서 실행\r\n",
        "3. logs.get('loss'), logs.get('mae') 등 loss 및 metrics로 설정한 것들 확인할 수 있음\r\n",
        "4. Use 'acc' or 'accuracy' depending on tf version"
      ]
    },
    {
      "cell_type": "code",
      "metadata": {
        "id": "04x3O4JLAfB5"
      },
      "source": [
        "class myCallback(tf.keras.callbacks.Callback):\r\n",
        "  def on_epoch_end(self, epoch, logs={}):\r\n",
        "    if logs.get('accuracy') > 0.95:\r\n",
        "      print(\"Reahced 95% accuracy so stop training!\\n\")\r\n",
        "      self.model.stop_training = True\r\n",
        "\r\n",
        "callback = myCallback()"
      ],
      "execution_count": 2,
      "outputs": []
    },
    {
      "cell_type": "markdown",
      "metadata": {
        "id": "3qN9nX_kEVgY"
      },
      "source": [
        "# Mnist Dataset\r\n",
        "\r\n",
        "1. fashion_mnist는 옷, mnist는 손글씨 숫자 data\r\n",
        "2. training_images는 6만개, testing_images는 1만개\r\n",
        "3. 28x28x1 data\r\n"
      ]
    },
    {
      "cell_type": "code",
      "metadata": {
        "colab": {
          "base_uri": "https://localhost:8080/"
        },
        "id": "XIeHfZs5Duu4",
        "outputId": "b5507ebd-f6d2-4a36-a63c-46d456c8646a"
      },
      "source": [
        "mnist = tf.keras.datasets.fashion_mnist\r\n",
        "\r\n",
        "(training_images, training_labels), (testing_images, testing_labels) = mnist.load_data()\r\n",
        "training_images = training_images.reshape(60000, 28, 28)\r\n",
        "training_images = training_images / 255.0\r\n",
        "testing_images = testing_images.reshape(10000, 28, 28)\r\n",
        "testing_images = testing_images / 255.0"
      ],
      "execution_count": 3,
      "outputs": [
        {
          "output_type": "stream",
          "text": [
            "Downloading data from https://storage.googleapis.com/tensorflow/tf-keras-datasets/train-labels-idx1-ubyte.gz\n",
            "32768/29515 [=================================] - 0s 0us/step\n",
            "Downloading data from https://storage.googleapis.com/tensorflow/tf-keras-datasets/train-images-idx3-ubyte.gz\n",
            "26427392/26421880 [==============================] - 0s 0us/step\n",
            "Downloading data from https://storage.googleapis.com/tensorflow/tf-keras-datasets/t10k-labels-idx1-ubyte.gz\n",
            "8192/5148 [===============================================] - 0s 0us/step\n",
            "Downloading data from https://storage.googleapis.com/tensorflow/tf-keras-datasets/t10k-images-idx3-ubyte.gz\n",
            "4423680/4422102 [==============================] - 0s 0us/step\n"
          ],
          "name": "stdout"
        }
      ]
    },
    {
      "cell_type": "code",
      "metadata": {
        "colab": {
          "base_uri": "https://localhost:8080/",
          "height": 283
        },
        "id": "IvNCLiNND0nR",
        "outputId": "a317866c-7fff-4d19-be67-46122a460bce"
      },
      "source": [
        "plt.imshow(training_images[0])"
      ],
      "execution_count": 4,
      "outputs": [
        {
          "output_type": "execute_result",
          "data": {
            "text/plain": [
              "<matplotlib.image.AxesImage at 0x7f2986faccc0>"
            ]
          },
          "metadata": {
            "tags": []
          },
          "execution_count": 4
        },
        {
          "output_type": "display_data",
          "data": {
            "image/png": "[encoded data removed]",
            "text/plain": [
              "<Figure size 432x288 with 1 Axes>"
            ]
          },
          "metadata": {
            "tags": [],
            "needs_background": "light"
          }
        }
      ]
    },
    {
      "cell_type": "code",
      "metadata": {
        "id": "bRaZfMx0FeRN"
      },
      "source": [
        "training_images = training_images.reshape(60000, 28, 28, 1)\r\n",
        "testing_images = testing_images.reshape(10000, 28, 28, 1)"
      ],
      "execution_count": 5,
      "outputs": []
    },
    {
      "cell_type": "markdown",
      "metadata": {
        "id": "h4z_S2sNF-Gd"
      },
      "source": [
        "# Model\r\n",
        "\r\n",
        "**1. Conv2D**\r\n",
        "  - **Filters** : not random values but set of known \"good\" filters\r\n",
        "  - Generally, more filters show better performance with slower speed (since it isolates and identifies different features per filters) but not always guarantee better performance\r\n",
        "  - truncates 1 pixels at the corner\r\n",
        "  - If multiple convolutional layers are used, then following convolutional layers applies convolution on top of previous convolutions\r\n",
        "\r\n",
        "**2. Activation function**\r\n",
        "  - ReLU : discards all negative values\r\n",
        "\r\n",
        "**3. Input Shape**\r\n",
        "  - Must specify if it is the first layer\r\n",
        "  Ex) Conv2D : (28, 28, 1) = tallying color scheme as 1 byte\r\n",
        "\r\n",
        "**4. MaxPooling**\r\n",
        "  - technique to reduce the info in an image while maintaining highlighted features or even much more highlighting it\r\n",
        "  - If pool_size=(2, 2) and the units are odd numbers, then rounds down\r\n",
        "  Ex) (27, 27) -> (13, 13)\r\n",
        "\r\n",
        "**5. Last Layer**\r\n",
        "  - For binary classifiction problems, sigmoid > binary_crossentropy\r\n",
        "\r\n",
        "\r\n",
        "\r\n",
        "\r\n"
      ]
    },
    {
      "cell_type": "code",
      "metadata": {
        "colab": {
          "base_uri": "https://localhost:8080/"
        },
        "id": "_VEiifpZE7qD",
        "outputId": "dfeaf5d6-036f-4d2c-9165-ca328b563c6f"
      },
      "source": [
        "model = tf.keras.models.Sequential([\r\n",
        "    tf.keras.layers.Conv2D(filters=64, kernel_size=(3, 3), activation=\"relu\", input_shape=(28, 28, 1)),\r\n",
        "    tf.keras.layers.MaxPooling2D((2, 2)),\r\n",
        "    tf.keras.layers.Conv2D(filters=64, kernel_size=(3, 3), activation=\"relu\"),\r\n",
        "    tf.keras.layers.MaxPooling2D((2, 2)),\r\n",
        "    tf.keras.layers.Flatten(),\r\n",
        "    tf.keras.layers.Dense(units=512, activation=\"relu\"),\r\n",
        "    tf.keras.layers.Dense(units=10, activation=\"softmax\")\r\n",
        "])\r\n",
        "\r\n",
        "model.compile(loss=\"sparse_categorical_crossentropy\", optimizer=tf.keras.optimizers.Adam(), metrics=['accuracy'])\r\n",
        "model.summary()"
      ],
      "execution_count": 6,
      "outputs": [
        {
          "output_type": "stream",
          "text": [
            "Model: \"sequential\"\n",
            "_________________________________________________________________\n",
            "Layer (type)                 Output Shape              Param #   \n",
            "=================================================================\n",
            "conv2d (Conv2D)              (None, 26, 26, 64)        640       \n",
            "_________________________________________________________________\n",
            "max_pooling2d (MaxPooling2D) (None, 13, 13, 64)        0         \n",
            "_________________________________________________________________\n",
            "conv2d_1 (Conv2D)            (None, 11, 11, 64)        36928     \n",
            "_________________________________________________________________\n",
            "max_pooling2d_1 (MaxPooling2 (None, 5, 5, 64)          0         \n",
            "_________________________________________________________________\n",
            "flatten (Flatten)            (None, 1600)              0         \n",
            "_________________________________________________________________\n",
            "dense (Dense)                (None, 512)               819712    \n",
            "_________________________________________________________________\n",
            "dense_1 (Dense)              (None, 10)                5130      \n",
            "=================================================================\n",
            "Total params: 862,410\n",
            "Trainable params: 862,410\n",
            "Non-trainable params: 0\n",
            "_________________________________________________________________\n"
          ],
          "name": "stdout"
        }
      ]
    },
    {
      "cell_type": "code",
      "metadata": {
        "colab": {
          "base_uri": "https://localhost:8080/"
        },
        "id": "jGbJaj37F4Na",
        "outputId": "4b1f5fb3-b709-46e7-def0-9366d43756a9"
      },
      "source": [
        "history = model.fit(training_images, training_labels, epochs=5, callbacks=[callback])\r\n",
        "print(history.epoch)                    # epoch 돈 횟수를 list로 반환\r\n",
        "print(history.history['accuracy'][-1])"
      ],
      "execution_count": 7,
      "outputs": [
        {
          "output_type": "stream",
          "text": [
            "Epoch 1/5\n",
            "1875/1875 [==============================] - 16s 5ms/step - loss: 0.5681 - accuracy: 0.7918\n",
            "Epoch 2/5\n",
            "1875/1875 [==============================] - 10s 5ms/step - loss: 0.2910 - accuracy: 0.8914\n",
            "Epoch 3/5\n",
            "1875/1875 [==============================] - 10s 5ms/step - loss: 0.2301 - accuracy: 0.9156\n",
            "Epoch 4/5\n",
            "1875/1875 [==============================] - 10s 5ms/step - loss: 0.1981 - accuracy: 0.9243\n",
            "Epoch 5/5\n",
            "1875/1875 [==============================] - 10s 5ms/step - loss: 0.1651 - accuracy: 0.9373\n",
            "[0, 1, 2, 3, 4]\n",
            "0.9367499947547913\n"
          ],
          "name": "stdout"
        }
      ]
    },
    {
      "cell_type": "code",
      "metadata": {
        "colab": {
          "base_uri": "https://localhost:8080/",
          "height": 422
        },
        "id": "BBZhivFoMsmr",
        "outputId": "76d31c7c-fc11-4255-d483-523ac65bd925"
      },
      "source": [
        "plt.figure(figsize=(10, 6))\r\n",
        "plt.title(\"MNIST Fashion Data\")\r\n",
        "plt.xlabel(\"Epochs\")\r\n",
        "plt.ylabel(\"Accuracy\")\r\n",
        "plt.plot(history.epoch, history.history['accuracy'])"
      ],
      "execution_count": 8,
      "outputs": [
        {
          "output_type": "execute_result",
          "data": {
            "text/plain": [
              "[<matplotlib.lines.Line2D at 0x7f29320a2160>]"
            ]
          },
          "metadata": {
            "tags": []
          },
          "execution_count": 8
        },
        {
          "output_type": "display_data",
          "data": {
            "image/png": "[encoded data removed]",
            "text/plain": [
              "<Figure size 720x432 with 1 Axes>"
            ]
          },
          "metadata": {
            "tags": [],
            "needs_background": "light"
          }
        }
      ]
    },
    {
      "cell_type": "markdown",
      "metadata": {
        "id": "tyTA64IuN-xE"
      },
      "source": [
        "# Evaluating Trained Model"
      ]
    },
    {
      "cell_type": "code",
      "metadata": {
        "colab": {
          "base_uri": "https://localhost:8080/"
        },
        "id": "peaWu1-PNeyb",
        "outputId": "d4c55656-c096-41a0-e12f-e5b06b12b6ba"
      },
      "source": [
        "test_loss, test_accuracy = model.evaluate(testing_images, testing_labels)\r\n",
        "print('Test loss : {}'.format(test_loss))\r\n",
        "print('Test Accuracy : {}%'.format(round(test_accuracy * 100, 3)))"
      ],
      "execution_count": 9,
      "outputs": [
        {
          "output_type": "stream",
          "text": [
            "313/313 [==============================] - 1s 3ms/step - loss: 0.2594 - accuracy: 0.9058\n",
            "Test loss : 0.2594355344772339\n",
            "Test Accuracy : 90.58%\n"
          ],
          "name": "stdout"
        }
      ]
    },
    {
      "cell_type": "markdown",
      "metadata": {
        "id": "URp071BYOD_1"
      },
      "source": [
        "# Using Trained Model\r\n",
        "\r\n"
      ]
    },
    {
      "cell_type": "code",
      "metadata": {
        "colab": {
          "base_uri": "https://localhost:8080/"
        },
        "id": "pfAi43uTOGYV",
        "outputId": "eb41d51a-8f30-4ab4-ab9e-d868940875bf"
      },
      "source": [
        "classifications = model.predict(testing_images)\r\n",
        "print(classifications[0]) # returns the probabilities for each classes\r\n",
        "print(testing_labels[0])"
      ],
      "execution_count": 10,
      "outputs": [
        {
          "output_type": "stream",
          "text": [
            "[1.5586876e-08 3.6692231e-07 1.2039963e-08 8.9306539e-08 3.5269077e-09\n",
            " 2.3802625e-06 3.0332963e-08 3.2463076e-04 1.5787002e-09 9.9967253e-01]\n",
            "9\n"
          ],
          "name": "stdout"
        }
      ]
    },
    {
      "cell_type": "code",
      "metadata": {
        "id": "x2VC0-qQQrib"
      },
      "source": [
        "num_test_cases = len(classifications)\r\n",
        "success = 0\r\n",
        "failure = 0\r\n",
        "\r\n",
        "for i, result in enumerate(classifications):\r\n",
        "  if np.argmax(result) == testing_labels[i]:\r\n",
        "    success += 1\r\n",
        "  else:\r\n",
        "    failure += 1"
      ],
      "execution_count": 13,
      "outputs": []
    },
    {
      "cell_type": "code",
      "metadata": {
        "colab": {
          "base_uri": "https://localhost:8080/"
        },
        "id": "GGKmOCTIT7HC",
        "outputId": "a07b1282-858e-429a-c0ca-d2fcdc11b940"
      },
      "source": [
        "print('From {} cases, {} cases have succeded and {} cases have failed'.format(num_test_cases, success, failure))\r\n",
        "print('Accuracy : {}'.format(success / num_test_cases))  # == same with test_accuracy computed above"
      ],
      "execution_count": 16,
      "outputs": [
        {
          "output_type": "stream",
          "text": [
            "From 10000 cases, 9058 cases have succeded and 942 cases have failed\n",
            "Accuracy : 0.9058\n"
          ],
          "name": "stdout"
        }
      ]
    },
    {
      "cell_type": "code",
      "metadata": {
        "id": "NNuGCjHvUKW5"
      },
      "source": [
        ""
      ],
      "execution_count": null,
      "outputs": []
    }
  ]
}