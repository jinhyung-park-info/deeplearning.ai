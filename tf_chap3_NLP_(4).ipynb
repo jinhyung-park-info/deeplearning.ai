{
  "nbformat": 4,
  "nbformat_minor": 0,
  "metadata": {
    "colab": {
      "name": "tf_chap3_NLP (4).ipynb",
      "provenance": [],
      "collapsed_sections": [],
      "authorship_tag": "ABX9TyMlagzhsxHH682idDYe16GP",
      "include_colab_link": true
    },
    "kernelspec": {
      "name": "python3",
      "display_name": "Python 3"
    }
  },
  "cells": [
    {
      "cell_type": "markdown",
      "metadata": {
        "id": "view-in-github",
        "colab_type": "text"
      },
      "source": [
        "<a href=\"https://colab.research.google.com/github/jinhyung426/deeplearning.ai/blob/main/tf_chap3_NLP_(4).ipynb\" target=\"_parent\"><img src=\"https://colab.research.google.com/assets/colab-badge.svg\" alt=\"Open In Colab\"/></a>"
      ]
    },
    {
      "cell_type": "markdown",
      "metadata": {
        "id": "baQgplYtV7UM"
      },
      "source": [
        "# Tensorflow\r\n",
        "\r\n",
        "## Part 3. Natural Language Processing in TensorFlow\r\n",
        "\r\n",
        "## (4) One-Hot Encoding"
      ]
    },
    {
      "cell_type": "code",
      "metadata": {
        "id": "0FFvrnddV9da"
      },
      "source": [
        "import tensorflow as tf\r\n",
        "\r\n",
        "from tensorflow.keras.preprocessing.sequence import pad_sequences\r\n",
        "from tensorflow.keras.layers import Embedding, LSTM, Dense, Bidirectional\r\n",
        "from tensorflow.keras.preprocessing.text import Tokenizer\r\n",
        "from tensorflow.keras.models import Sequential\r\n",
        "from tensorflow.keras import regularizers\r\n",
        "from tensorflow.keras.optimizers import Adam\r\n",
        "import numpy as np \r\n",
        "\r\n",
        "tokenizer = Tokenizer()\r\n",
        "\r\n",
        "data = \"In the town of Athy one Jeremy Lanigan \\n Battered away til he hadnt a pound. \\nHis father died and made him a man again \\n Left him a farm and ten acres of ground. \\nHe gave a grand party for friends and relations \\nWho didnt forget him when come to the wall, \\nAnd if youll but listen Ill make your eyes glisten \\nOf the rows and the ructions of Lanigans Ball. \\nMyself to be sure got free invitation, \\nFor all the nice girls and boys I might ask, \\nAnd just in a minute both friends and relations \\nWere dancing round merry as bees round a cask. \\nJudy ODaly, that nice little milliner, \\nShe tipped me a wink for to give her a call, \\nAnd I soon arrived with Peggy McGilligan \\nJust in time for Lanigans Ball. \\nThere were lashings of punch and wine for the ladies, \\nPotatoes and cakes; there was bacon and tea, \\nThere were the Nolans, Dolans, OGradys \\nCourting the girls and dancing away. \\nSongs they went round as plenty as water, \\nThe harp that once sounded in Taras old hall,\\nSweet Nelly Gray and The Rat Catchers Daughter,\\nAll singing together at Lanigans Ball. \\nThey were doing all kinds of nonsensical polkas \\nAll round the room in a whirligig. \\nJulia and I, we banished their nonsense \\nAnd tipped them the twist of a reel and a jig. \\nAch mavrone, how the girls got all mad at me \\nDanced til youd think the ceiling would fall. \\nFor I spent three weeks at Brooks Academy \\nLearning new steps for Lanigans Ball. \\nThree long weeks I spent up in Dublin, \\nThree long weeks to learn nothing at all,\\n Three long weeks I spent up in Dublin, \\nLearning new steps for Lanigans Ball. \\nShe stepped out and I stepped in again, \\nI stepped out and she stepped in again, \\nShe stepped out and I stepped in again, \\nLearning new steps for Lanigans Ball. \\nBoys were all merry and the girls they were hearty \\nAnd danced all around in couples and groups, \\nTil an accident happened, young Terrance McCarthy \\nPut his right leg through miss Finnertys hoops. \\nPoor creature fainted and cried Meelia murther, \\nCalled for her brothers and gathered them all. \\nCarmody swore that hed go no further \\nTil he had satisfaction at Lanigans Ball. \\nIn the midst of the row miss Kerrigan fainted, \\nHer cheeks at the same time as red as a rose. \\nSome of the lads declared she was painted, \\nShe took a small drop too much, I suppose. \\nHer sweetheart, Ned Morgan, so powerful and able, \\nWhen he saw his fair colleen stretched out by the wall, \\nTore the left leg from under the table \\nAnd smashed all the Chaneys at Lanigans Ball. \\nBoys, oh boys, twas then there were runctions. \\nMyself got a lick from big Phelim McHugh. \\nI soon replied to his introduction \\nAnd kicked up a terrible hullabaloo. \\nOld Casey, the piper, was near being strangled. \\nThey squeezed up his pipes, bellows, chanters and all. \\nThe girls, in their ribbons, they got all entangled \\nAnd that put an end to Lanigans Ball.\"\r\n",
        "\r\n",
        "corpus = data.lower().split(\"\\n\")\r\n",
        "\r\n",
        "tokenizer.fit_on_texts(corpus)\r\n",
        "total_words = len(tokenizer.word_index) + 1  # +1 for OOV token\r\n",
        "\r\n",
        "print(tokenizer.word_index)   # {'and' : 1, 'the': 2 , ...}\r\n",
        "print(total_words)\r\n",
        "\r\n",
        "input_sequences = []\r\n",
        "for line in corpus:\r\n",
        "\ttoken_list = tokenizer.texts_to_sequences(line)[0]\r\n",
        "\tfor i in range(1, len(token_list)):\r\n",
        "\t\tn_gram_sequence = token_list[:i+1]\r\n",
        "\t\tinput_sequence.append(n_gram_sequence)\r\n",
        "\r\n",
        "# Pad sequences\r\n",
        "max_sequence_len = max([len(x) for x in input_sequences])\r\n",
        "input_sequences = np.array(pad_seqeunces(input_sequences, maxlen=max_sequence_len, padding='pre'))\r\n",
        "# padding should be pre to make the xs, ys arrays easily\r\n",
        "\r\n",
        "xs = input_sequences[:, :-1]\r\n",
        "labels = input_sequences[:, -1]\r\n",
        "\r\n",
        "ys = tf.keras.utils.to_categorical(labels, num_classes=total_words)\r\n",
        "\r\n",
        "print(tokenizer.word_index['in'])\r\n",
        "\r\n",
        "model = Sequential()\r\n",
        "model.add(Embedding(total_words, 64, input_length=max_sequence_len-1)) \r\n",
        "# -1 since we cropped the last word as the label\r\n",
        "model.add(Bidirectional(LSTM(20)))\r\n",
        "model.add(Dense(total_words/2, activation='relu', kernel_regularizer=regularizers.l2(0.01)))\r\n",
        "model.add(Dense(total_words, activation='softmax')) # last layer should be total_words\r\n",
        "model.compile(loss='categorical_crossentropy', optimizer='adam', metrics=['accuracy'])\r\n",
        "history = model.fit(xs, ys, epochs=500, verbose=1)\r\n",
        "\r\n",
        "# Testing with Example\r\n",
        "\r\n",
        "seed_text = \"Laurence went to dublin\"\r\n",
        "next_words = 100\r\n",
        "\r\n",
        "\r\n",
        "for _ in range(next_words):\r\n",
        "\ttoken_list = tokenizer.texts_to_sequences(seed_text)\r\n",
        "\ttoken_list = pad_sequences([token_list], maxlen=max_sequence_len-1, padding='pre') \r\n",
        "\t# -1 since we cropped the last word as the label\r\n",
        "\tpredicted = model.predict_classes(token_list, verbose=0)\r\n",
        "\toutput_word = \"\"\r\n",
        "\tfor word, index in tokenizer.items():\r\n",
        "\t\tif index == predicted:\r\n",
        "\t\t\toutput_word = word\r\n",
        "\t\t\tbreak\r\n",
        "\t\tseed_text += \" \" output_word\r\n",
        "\r\n",
        "print(seed_text)\r\n",
        "\r\n",
        "# large corpus - better prediction ability\r\n",
        "# more next words - less prediction accuracy so on\r\n",
        "# one hot encoding - may hit memory error if corpus is large\r\n",
        "# instead, we can use character-based RNN (prediction) - only 26 unique characters\r\n",
        "# CAN USE \"SET\" to identify unique characters - can be more than 26 since punctuations included\r\n",
        "# Removing Bidirectional - If you want the words to only to have forward meaning\r\n",
        "# ex) big dog makes sense but dog big doesn't make sense\r\n",
        "# Using Bidirectional - If you want to pass the words forward and backwards\r\n",
        "\r\n",
        "# Wrap Up\r\n",
        "1. basic Tokenization and Padding of text to produce data structures that could be used in a Neural Network.\r\n",
        "2. Embeddings - embeddings, and how words could be mapped to vectors, and words of similar semantics given vectors pointing in a similar direction, giving you a mathematical model for their meaning, which could then be fed into a deep neural network for classification.\r\n",
        "3. Sequence Models - sequence models, and how they help deepen your understanding of sentiment in text by not just looking at words in isolation, but also how their meanings change when they qualify one another. \r\n",
        "4. poetry generator!"
      ],
      "execution_count": null,
      "outputs": []
    }
  ]
}