{
  "nbformat": 4,
  "nbformat_minor": 0,
  "metadata": {
    "colab": {
      "name": "tf_chap1_computer_vision (1).ipynb",
      "provenance": [],
      "collapsed_sections": [],
      "authorship_tag": "ABX9TyMzFNdW2Hx0iwUIr7WcwdG8",
      "include_colab_link": true
    },
    "kernelspec": {
      "name": "python3",
      "display_name": "Python 3"
    },
    "accelerator": "GPU"
  },
  "cells": [
    {
      "cell_type": "markdown",
      "metadata": {
        "id": "view-in-github",
        "colab_type": "text"
      },
      "source": [
        "<a href=\"https://colab.research.google.com/github/jinhyung426/tensorflow/blob/main/tf_chap1_computer_vision_(1).ipynb\" target=\"_parent\"><img src=\"https://colab.research.google.com/assets/colab-badge.svg\" alt=\"Open In Colab\"/></a>"
      ]
    },
    {
      "cell_type": "markdown",
      "metadata": {
        "id": "lPTwbpWLAF7A"
      },
      "source": [
        "# Tensorflow\r\n",
        "\r\n",
        "## Part 1. Introduction to TensorFlow for Artificial Intelligence, Machine Learning, and Deep Learning\r\n",
        "\r\n",
        "## (1) Basic Model Practice\r\n"
      ]
    },
    {
      "cell_type": "code",
      "metadata": {
        "id": "7F7OzArHAaas"
      },
      "source": [
        "import tensorflow as tf\r\n",
        "import numpy as np\r\n",
        "import matplotlib.pyplot as plt"
      ],
      "execution_count": 1,
      "outputs": []
    },
    {
      "cell_type": "markdown",
      "metadata": {
        "id": "9yIaQ7-GDTI8"
      },
      "source": [
        "# Callbacks\r\n",
        "\r\n",
        "1. Inline으로 해도 가능\r\n",
        "2. on_epoch_end function의 경우 매 epoch가 끝나고 나서 실행\r\n",
        "3. logs.get('loss'), logs.get('mae') 등 loss 및 metrics로 설정한 것들 확인할 수 있음\r\n",
        "4. Use 'acc' or 'accuracy' depending on tf version"
      ]
    },
    {
      "cell_type": "code",
      "metadata": {
        "id": "04x3O4JLAfB5"
      },
      "source": [
        "class myCallback(tf.keras.callbacks.Callback):\r\n",
        "  def on_epoch_end(self, epoch, logs={}):\r\n",
        "    if logs.get('accuracy') > 0.95:\r\n",
        "      print(\"Reahced 95% accuracy so stop training!\\n\")\r\n",
        "      self.model.stop_training = True\r\n",
        "\r\n",
        "callback = myCallback()"
      ],
      "execution_count": 2,
      "outputs": []
    },
    {
      "cell_type": "markdown",
      "metadata": {
        "id": "3qN9nX_kEVgY"
      },
      "source": [
        "# Mnist Dataset\r\n",
        "\r\n",
        "1. fashion_mnist는 옷, mnist는 손글씨 숫자 data\r\n",
        "2. training_images는 6만개, testing_images는 1만개\r\n",
        "3. 28x28x1 data\r\n"
      ]
    },
    {
      "cell_type": "code",
      "metadata": {
        "id": "XIeHfZs5Duu4"
      },
      "source": [
        "mnist = tf.keras.datasets.fashion_mnist\r\n",
        "\r\n",
        "(training_images, training_labels), (testing_images, testing_labels) = mnist.load_data()\r\n",
        "training_images = training_images.reshape(60000, 28, 28)\r\n",
        "training_images = training_images / 255.0\r\n",
        "testing_images = testing_images.reshape(10000, 28, 28)\r\n",
        "testing_images = testing_images / 255.0"
      ],
      "execution_count": 3,
      "outputs": []
    },
    {
      "cell_type": "code",
      "metadata": {
        "colab": {
          "base_uri": "https://localhost:8080/",
          "height": 283
        },
        "id": "IvNCLiNND0nR",
        "outputId": "9693cb1a-0817-4c7b-c970-51cb80bf7c46"
      },
      "source": [
        "plt.imshow(training_images[0])"
      ],
      "execution_count": 4,
      "outputs": [
        {
          "output_type": "execute_result",
          "data": {
            "text/plain": [
              "<matplotlib.image.AxesImage at 0x7fc462128898>"
            ]
          },
          "metadata": {
            "tags": []
          },
          "execution_count": 4
        },
        {
          "output_type": "display_data",
          "data": {
            "image/png": "[encoded data removed]",
            "text/plain": [
              "<Figure size 432x288 with 1 Axes>"
            ]
          },
          "metadata": {
            "tags": [],
            "needs_background": "light"
          }
        }
      ]
    },
    {
      "cell_type": "code",
      "metadata": {
        "id": "bRaZfMx0FeRN"
      },
      "source": [
        "training_images = training_images.reshape(60000, 28, 28, 1)\r\n",
        "testing_images = testing_images.reshape(10000, 28, 28, 1)"
      ],
      "execution_count": 5,
      "outputs": []
    },
    {
      "cell_type": "markdown",
      "metadata": {
        "id": "h4z_S2sNF-Gd"
      },
      "source": [
        "# Model\r\n",
        "\r\n",
        "**1. Conv2D**\r\n",
        "  - **Filters** : not random values but set of known \"good\" filters\r\n",
        "  - Generally, more filters show better performance with slower speed (since it isolates and identifies different features per filters) but not always guarantee better performance\r\n",
        "  - truncates 1 pixels at the corner\r\n",
        "  - If multiple convolutional layers are used, then following convolutional layers applies convolution on top of previous convolutions\r\n",
        "\r\n",
        "**2. Activation function**\r\n",
        "  - ReLU : discards all negative values\r\n",
        "\r\n",
        "**3. Input Shape**\r\n",
        "  - Must specify if it is the first layer\r\n",
        "  Ex) Conv2D : (28, 28, 1) = tallying color scheme as 1 byte\r\n",
        "\r\n",
        "**4. MaxPooling**\r\n",
        "  - technique to reduce the info in an image while maintaining highlighted features or even much more highlighting it\r\n",
        "  - If pool_size=(2, 2) and the units are odd numbers, then rounds down\r\n",
        "  Ex) (27, 27) -> (13, 13)\r\n",
        "\r\n",
        "**5. Last Layer**\r\n",
        "  - For binary classifiction problems, sigmoid > binary_crossentropy\r\n",
        "\r\n",
        "\r\n",
        "\r\n",
        "\r\n"
      ]
    },
    {
      "cell_type": "code",
      "metadata": {
        "colab": {
          "base_uri": "https://localhost:8080/"
        },
        "id": "_VEiifpZE7qD",
        "outputId": "0ed901d6-308f-4d95-f31e-2d714c4ffc4c"
      },
      "source": [
        "model = tf.keras.models.Sequential([\r\n",
        "    tf.keras.layers.Conv2D(filters=64, kernel_size=(3, 3), activation=\"relu\", input_shape=(28, 28, 1)),\r\n",
        "    tf.keras.layers.MaxPooling2D((2, 2)),\r\n",
        "    tf.keras.layers.Conv2D(filters=64, kernel_size=(3, 3), activation=\"relu\"),\r\n",
        "    tf.keras.layers.MaxPooling2D((2, 2)),\r\n",
        "    tf.keras.layers.Flatten(),\r\n",
        "    tf.keras.layers.Dense(units=512, activation=\"relu\"),\r\n",
        "    tf.keras.layers.Dense(units=10, activation=\"softmax\")\r\n",
        "])\r\n",
        "\r\n",
        "model.compile(loss=\"sparse_categorical_crossentropy\", optimizer=tf.keras.optimizers.Adam(), metrics=['accuracy'])\r\n",
        "model.summary()"
      ],
      "execution_count": 6,
      "outputs": [
        {
          "output_type": "stream",
          "text": [
            "Model: \"sequential\"\n",
            "_________________________________________________________________\n",
            "Layer (type)                 Output Shape              Param #   \n",
            "=================================================================\n",
            "conv2d (Conv2D)              (None, 26, 26, 64)        640       \n",
            "_________________________________________________________________\n",
            "max_pooling2d (MaxPooling2D) (None, 13, 13, 64)        0         \n",
            "_________________________________________________________________\n",
            "conv2d_1 (Conv2D)            (None, 11, 11, 64)        36928     \n",
            "_________________________________________________________________\n",
            "max_pooling2d_1 (MaxPooling2 (None, 5, 5, 64)          0         \n",
            "_________________________________________________________________\n",
            "flatten (Flatten)            (None, 1600)              0         \n",
            "_________________________________________________________________\n",
            "dense (Dense)                (None, 512)               819712    \n",
            "_________________________________________________________________\n",
            "dense_1 (Dense)              (None, 10)                5130      \n",
            "=================================================================\n",
            "Total params: 862,410\n",
            "Trainable params: 862,410\n",
            "Non-trainable params: 0\n",
            "_________________________________________________________________\n"
          ],
          "name": "stdout"
        }
      ]
    },
    {
      "cell_type": "code",
      "metadata": {
        "colab": {
          "base_uri": "https://localhost:8080/"
        },
        "id": "jGbJaj37F4Na",
        "outputId": "d16e8fa0-f354-4004-ca09-31cb7f822872"
      },
      "source": [
        "history = model.fit(training_images, training_labels, epochs=5, callbacks=[callback])\r\n",
        "print(history.epoch)                    # epoch 돈 횟수를 list로 반환\r\n",
        "print(history.history['accuracy'][-1])"
      ],
      "execution_count": 7,
      "outputs": [
        {
          "output_type": "stream",
          "text": [
            "Epoch 1/5\n",
            "1875/1875 [==============================] - 7s 2ms/step - loss: 0.5681 - accuracy: 0.7976\n",
            "Epoch 2/5\n",
            "1875/1875 [==============================] - 4s 2ms/step - loss: 0.2882 - accuracy: 0.8929\n",
            "Epoch 3/5\n",
            "1875/1875 [==============================] - 5s 2ms/step - loss: 0.2314 - accuracy: 0.9138\n",
            "Epoch 4/5\n",
            "1875/1875 [==============================] - 5s 2ms/step - loss: 0.1907 - accuracy: 0.9295\n",
            "Epoch 5/5\n",
            "1875/1875 [==============================] - 4s 2ms/step - loss: 0.1615 - accuracy: 0.9399\n",
            "[0, 1, 2, 3, 4]\n",
            "0.9380166530609131\n"
          ],
          "name": "stdout"
        }
      ]
    },
    {
      "cell_type": "code",
      "metadata": {
        "colab": {
          "base_uri": "https://localhost:8080/",
          "height": 422
        },
        "id": "BBZhivFoMsmr",
        "outputId": "1e8192b6-2985-46f5-ed9e-f29d68a47435"
      },
      "source": [
        "plt.figure(figsize=(10, 6))\r\n",
        "plt.title(\"MNIST Fashion Data\")\r\n",
        "plt.xlabel(\"Epochs\")\r\n",
        "plt.ylabel(\"Accuracy\")\r\n",
        "plt.plot(history.epoch, history.history['accuracy'])"
      ],
      "execution_count": 8,
      "outputs": [
        {
          "output_type": "execute_result",
          "data": {
            "text/plain": [
              "[<matplotlib.lines.Line2D at 0x7fc40803ec18>]"
            ]
          },
          "metadata": {
            "tags": []
          },
          "execution_count": 8
        },
        {
          "output_type": "display_data",
          "data": {
            "image/png": "[encoded data removed]",
            "text/plain": [
              "<Figure size 720x432 with 1 Axes>"
            ]
          },
          "metadata": {
            "tags": [],
            "needs_background": "light"
          }
        }
      ]
    },
    {
      "cell_type": "markdown",
      "metadata": {
        "id": "tyTA64IuN-xE"
      },
      "source": [
        "# Evaluating Trained Model"
      ]
    },
    {
      "cell_type": "code",
      "metadata": {
        "colab": {
          "base_uri": "https://localhost:8080/"
        },
        "id": "peaWu1-PNeyb",
        "outputId": "79c4448d-1d38-4045-b901-515e809f5518"
      },
      "source": [
        "test_loss, test_accuracy = model.evaluate(testing_images, testing_labels)\r\n",
        "print('Test loss : {}'.format(test_loss))\r\n",
        "print('Test Accuracy : {}%'.format(round(test_accuracy * 100, 3)))"
      ],
      "execution_count": 9,
      "outputs": [
        {
          "output_type": "stream",
          "text": [
            "313/313 [==============================] - 1s 2ms/step - loss: 0.2636 - accuracy: 0.9094\n",
            "Test loss : 0.2635929584503174\n",
            "Test Accuracy : 90.94%\n"
          ],
          "name": "stdout"
        }
      ]
    },
    {
      "cell_type": "markdown",
      "metadata": {
        "id": "URp071BYOD_1"
      },
      "source": [
        "# Using Trained Model\r\n",
        "\r\n"
      ]
    },
    {
      "cell_type": "code",
      "metadata": {
        "colab": {
          "base_uri": "https://localhost:8080/"
        },
        "id": "pfAi43uTOGYV",
        "outputId": "b497c33c-a720-4cac-894d-22da80c39dc1"
      },
      "source": [
        "classifications = model.predict(testing_images)\r\n",
        "print(classifications[0]) # returns the probabilities for each classes\r\n",
        "print(testing_labels[0])"
      ],
      "execution_count": 10,
      "outputs": [
        {
          "output_type": "stream",
          "text": [
            "[6.4423233e-07 4.3738247e-08 4.4841681e-09 8.4674747e-09 1.6534521e-08\n",
            " 1.3762451e-05 8.2276932e-09 4.5546931e-05 2.6084854e-07 9.9993968e-01]\n",
            "9\n"
          ],
          "name": "stdout"
        }
      ]
    },
    {
      "cell_type": "code",
      "metadata": {
        "id": "x2VC0-qQQrib"
      },
      "source": [
        "num_test_cases = len(classifications)\r\n",
        "success = 0\r\n",
        "failure = 0\r\n",
        "\r\n",
        "for i, result in enumerate(classifications):\r\n",
        "  if np.argmax(result) == testing_labels[i]:\r\n",
        "    success += 1\r\n",
        "  else:\r\n",
        "    failure += 1"
      ],
      "execution_count": 11,
      "outputs": []
    },
    {
      "cell_type": "code",
      "metadata": {
        "colab": {
          "base_uri": "https://localhost:8080/"
        },
        "id": "GGKmOCTIT7HC",
        "outputId": "f1ee4993-995b-43a3-c0dd-dff5d34afe62"
      },
      "source": [
        "print('From {} cases, {} cases have succeded and {} cases have failed'.format(num_test_cases, success, failure))\r\n",
        "print('Accuracy : {}'.format(success / num_test_cases))  # == same with test_accuracy computed above"
      ],
      "execution_count": 12,
      "outputs": [
        {
          "output_type": "stream",
          "text": [
            "From 10000 cases, 9094 cases have succeded and 906 cases have failed\n",
            "Accuracy : 0.9094\n"
          ],
          "name": "stdout"
        }
      ]
    },
    {
      "cell_type": "markdown",
      "metadata": {
        "id": "9T65BsPpXPDT"
      },
      "source": [
        "# Walking Through Convolutions\r\n",
        "\r\n",
        "*   같은 종류의 그림     : 특정 filter (convolution number)를 apply해서 해당 filter가 해당 종류의 그림에서 어떤 특징 추출하는지 찾을 수 있음\r\n",
        "*   서로 다른 종류의 그림 : 특정 filter를 apply해서 해당 filter가 공통적으로 어떤 역할을 하는지 찾을 수 있음   \r\n",
        " Ex) 색깔을 밝게 하는 역할\r\n",
        "\r\n",
        "\r\n"
      ]
    },
    {
      "cell_type": "code",
      "metadata": {
        "colab": {
          "base_uri": "https://localhost:8080/",
          "height": 268
        },
        "id": "YDidTMeda_LQ",
        "outputId": "a86b5578-3fd3-41e9-c982-d7ff534eb0b8"
      },
      "source": [
        "f, axarr = plt.subplots(3, 4)\r\n",
        "\r\n",
        "FIRST_IMAGE = 0\r\n",
        "SECOND_IMAGE = 23\r\n",
        "THIRD_IMAGE = 28\r\n",
        "\r\n",
        "CONVOLUTION_NUMBER = 4\r\n",
        "from tensorflow.keras import models\r\n",
        "\r\n",
        "layer_outputs = [layer.output for layer in model.layers]\r\n",
        "activation_model = tf.keras.models.Model(inputs = model.input, outputs=layer_outputs)\r\n",
        "\r\n",
        "num_conv_max_pool_layers = 4  # 1st conv2d 이후, 1st max pool 이후, 2nd conv2d 이후, 2nd maxpool 이후를 출력\r\n",
        "\r\n",
        "for layer_number in range(num_conv_max_pool_layers):\r\n",
        "  first_image_result = activation_model.predict(testing_images[FIRST_IMAGE].reshape(1, 28, 28, 1))[layer_number]\r\n",
        "  axarr[0, layer_number].imshow(first_image_result[0, :, :, CONVOLUTION_NUMBER], cmap='inferno')\r\n",
        "\r\n",
        "  second_image_result = activation_model.predict(testing_images[SECOND_IMAGE].reshape(1, 28, 28, 1))[layer_number]\r\n",
        "  axarr[1, layer_number].imshow(second_image_result[0, :, :, CONVOLUTION_NUMBER], cmap='inferno')\r\n",
        "\r\n",
        "  third_image_result = activation_model.predict(testing_images[THIRD_IMAGE].reshape(1, 28, 28, 1))[layer_number]\r\n",
        "  axarr[2, layer_number].imshow(third_image_result[0, :, :, CONVOLUTION_NUMBER], cmap='inferno')"
      ],
      "execution_count": 29,
      "outputs": [
        {
          "output_type": "display_data",
          "data": {
            "image/png": "[encoded data removed]",
            "text/plain": [
              "<Figure size 432x288 with 12 Axes>"
            ]
          },
          "metadata": {
            "tags": [],
            "needs_background": "light"
          }
        }
      ]
    },
    {
      "cell_type": "code",
      "metadata": {
        "id": "l5il20kLXohW"
      },
      "source": [
        ""
      ],
      "execution_count": null,
      "outputs": []
    }
  ]
}